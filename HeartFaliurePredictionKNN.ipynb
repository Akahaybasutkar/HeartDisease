{
  "nbformat": 4,
  "nbformat_minor": 0,
  "metadata": {
    "colab": {
      "provenance": [],
      "include_colab_link": true
    },
    "kernelspec": {
      "name": "python3",
      "display_name": "Python 3"
    },
    "language_info": {
      "name": "python"
    }
  },
  "cells": [
    {
      "cell_type": "markdown",
      "metadata": {
        "id": "view-in-github",
        "colab_type": "text"
      },
      "source": [
        "<a href=\"https://colab.research.google.com/github/Akahaybasutkar/HeartDisease/blob/main/HeartFaliurePredictionKNN.ipynb\" target=\"_parent\"><img src=\"https://colab.research.google.com/assets/colab-badge.svg\" alt=\"Open In Colab\"/></a>"
      ]
    },
    {
      "cell_type": "markdown",
      "source": [
        "# Importing all the modules"
      ],
      "metadata": {
        "id": "dXEd6Y3VSfba"
      }
    },
    {
      "cell_type": "code",
      "source": [
        "import pandas as pd\n",
        "from sklearn.preprocessing import LabelEncoder\n",
        "import sklearn\n",
        "from sklearn.model_selection import train_test_split\n",
        "from sklearn.neighbors import KNeighborsClassifier\n",
        "from sklearn.metrics import confusion_matrix\n",
        "from sklearn.metrics import accuracy_score\n",
        "from sklearn.preprocessing import MinMaxScaler"
      ],
      "metadata": {
        "id": "yKNsq3BfSAlt"
      },
      "execution_count": null,
      "outputs": []
    },
    {
      "cell_type": "markdown",
      "source": [
        "# Getting the DataSet"
      ],
      "metadata": {
        "id": "24eMivPeSlcq"
      }
    },
    {
      "cell_type": "code",
      "execution_count": null,
      "metadata": {
        "colab": {
          "base_uri": "https://localhost:8080/"
        },
        "id": "wcSAQF-6OezK",
        "outputId": "29411321-544e-434d-ae7c-76bddb7b0090"
      },
      "outputs": [
        {
          "output_type": "stream",
          "name": "stdout",
          "text": [
            "     Age Sex ChestPainType  RestingBP  Cholesterol  FastingBS RestingECG  \\\n",
            "0     40   M           ATA        140          289          0     Normal   \n",
            "1     49   F           NAP        160          180          0     Normal   \n",
            "2     37   M           ATA        130          283          0         ST   \n",
            "3     48   F           ASY        138          214          0     Normal   \n",
            "4     54   M           NAP        150          195          0     Normal   \n",
            "..   ...  ..           ...        ...          ...        ...        ...   \n",
            "913   45   M            TA        110          264          0     Normal   \n",
            "914   68   M           ASY        144          193          1     Normal   \n",
            "915   57   M           ASY        130          131          0     Normal   \n",
            "916   57   F           ATA        130          236          0        LVH   \n",
            "917   38   M           NAP        138          175          0     Normal   \n",
            "\n",
            "     MaxHR ExerciseAngina  Oldpeak ST_Slope  HeartDisease  \n",
            "0      172              N      0.0       Up             0  \n",
            "1      156              N      1.0     Flat             1  \n",
            "2       98              N      0.0       Up             0  \n",
            "3      108              Y      1.5     Flat             1  \n",
            "4      122              N      0.0       Up             0  \n",
            "..     ...            ...      ...      ...           ...  \n",
            "913    132              N      1.2     Flat             1  \n",
            "914    141              N      3.4     Flat             1  \n",
            "915    115              Y      1.2     Flat             1  \n",
            "916    174              N      0.0     Flat             1  \n",
            "917    173              N      0.0       Up             0  \n",
            "\n",
            "[918 rows x 12 columns]\n",
            "<class 'pandas.core.frame.DataFrame'>\n",
            "RangeIndex: 918 entries, 0 to 917\n",
            "Data columns (total 12 columns):\n",
            " #   Column          Non-Null Count  Dtype  \n",
            "---  ------          --------------  -----  \n",
            " 0   Age             918 non-null    int64  \n",
            " 1   Sex             918 non-null    object \n",
            " 2   ChestPainType   918 non-null    object \n",
            " 3   RestingBP       918 non-null    int64  \n",
            " 4   Cholesterol     918 non-null    int64  \n",
            " 5   FastingBS       918 non-null    int64  \n",
            " 6   RestingECG      918 non-null    object \n",
            " 7   MaxHR           918 non-null    int64  \n",
            " 8   ExerciseAngina  918 non-null    object \n",
            " 9   Oldpeak         918 non-null    float64\n",
            " 10  ST_Slope        918 non-null    object \n",
            " 11  HeartDisease    918 non-null    int64  \n",
            "dtypes: float64(1), int64(6), object(5)\n",
            "memory usage: 86.2+ KB\n",
            "None\n"
          ]
        },
        {
          "output_type": "execute_result",
          "data": {
            "text/plain": [
              "(918, 12)"
            ]
          },
          "metadata": {},
          "execution_count": 167
        }
      ],
      "source": [
        "path = \"/content/heartFaliure.xlsx\"\n",
        "data = pd.read_excel(path)\n",
        "print(data)\n",
        "print(data.info())\n",
        "data.shape"
      ]
    },
    {
      "cell_type": "markdown",
      "source": [
        "# Preprocessing of Data"
      ],
      "metadata": {
        "id": "NIjsA5Z2VdJW"
      }
    },
    {
      "cell_type": "code",
      "source": [
        "label_encoder = LabelEncoder()\n",
        "for column in data.columns:\n",
        "    if data[column].dtype == 'object':\n",
        "        data[column] = label_encoder.fit_transform(data[column])\n",
        "print(data)"
      ],
      "metadata": {
        "colab": {
          "base_uri": "https://localhost:8080/"
        },
        "id": "6fMZt3Z4VKtf",
        "outputId": "9aaf1302-129c-4f24-9bdf-706afe3d2f20"
      },
      "execution_count": null,
      "outputs": [
        {
          "output_type": "stream",
          "name": "stdout",
          "text": [
            "     Age  Sex  ChestPainType  RestingBP  Cholesterol  FastingBS  RestingECG  \\\n",
            "0     40    1              1        140          289          0           1   \n",
            "1     49    0              2        160          180          0           1   \n",
            "2     37    1              1        130          283          0           2   \n",
            "3     48    0              0        138          214          0           1   \n",
            "4     54    1              2        150          195          0           1   \n",
            "..   ...  ...            ...        ...          ...        ...         ...   \n",
            "913   45    1              3        110          264          0           1   \n",
            "914   68    1              0        144          193          1           1   \n",
            "915   57    1              0        130          131          0           1   \n",
            "916   57    0              1        130          236          0           0   \n",
            "917   38    1              2        138          175          0           1   \n",
            "\n",
            "     MaxHR  ExerciseAngina  Oldpeak  ST_Slope  HeartDisease  \n",
            "0      172               0      0.0         2             0  \n",
            "1      156               0      1.0         1             1  \n",
            "2       98               0      0.0         2             0  \n",
            "3      108               1      1.5         1             1  \n",
            "4      122               0      0.0         2             0  \n",
            "..     ...             ...      ...       ...           ...  \n",
            "913    132               0      1.2         1             1  \n",
            "914    141               0      3.4         1             1  \n",
            "915    115               1      1.2         1             1  \n",
            "916    174               0      0.0         1             1  \n",
            "917    173               0      0.0         2             0  \n",
            "\n",
            "[918 rows x 12 columns]\n"
          ]
        }
      ]
    },
    {
      "cell_type": "code",
      "source": [
        "scaler = MinMaxScaler()\n",
        "scaled_data = scaler.fit_transform(data)\n",
        "data = pd.DataFrame(scaled_data, columns= data.columns)\n",
        "data['HeartDisease'] = data['HeartDisease']\n",
        "data.head()"
      ],
      "metadata": {
        "colab": {
          "base_uri": "https://localhost:8080/",
          "height": 206
        },
        "id": "KhmTuIYxTAea",
        "outputId": "548c6ecf-4410-4e2b-8049-f6e8b1dd10da"
      },
      "execution_count": null,
      "outputs": [
        {
          "output_type": "execute_result",
          "data": {
            "text/plain": [
              "        Age  Sex  ChestPainType  RestingBP  Cholesterol  FastingBS  \\\n",
              "0  0.244898  1.0       0.333333       0.70     0.479270        0.0   \n",
              "1  0.428571  0.0       0.666667       0.80     0.298507        0.0   \n",
              "2  0.183673  1.0       0.333333       0.65     0.469320        0.0   \n",
              "3  0.408163  0.0       0.000000       0.69     0.354892        0.0   \n",
              "4  0.530612  1.0       0.666667       0.75     0.323383        0.0   \n",
              "\n",
              "   RestingECG     MaxHR  ExerciseAngina   Oldpeak  ST_Slope  HeartDisease  \n",
              "0         0.5  0.788732             0.0  0.295455       1.0           0.0  \n",
              "1         0.5  0.676056             0.0  0.409091       0.5           1.0  \n",
              "2         1.0  0.267606             0.0  0.295455       1.0           0.0  \n",
              "3         0.5  0.338028             1.0  0.465909       0.5           1.0  \n",
              "4         0.5  0.436620             0.0  0.295455       1.0           0.0  "
            ],
            "text/html": [
              "\n",
              "  <div id=\"df-67b3c4fb-7607-485f-9786-c73f9a6a6517\" class=\"colab-df-container\">\n",
              "    <div>\n",
              "<style scoped>\n",
              "    .dataframe tbody tr th:only-of-type {\n",
              "        vertical-align: middle;\n",
              "    }\n",
              "\n",
              "    .dataframe tbody tr th {\n",
              "        vertical-align: top;\n",
              "    }\n",
              "\n",
              "    .dataframe thead th {\n",
              "        text-align: right;\n",
              "    }\n",
              "</style>\n",
              "<table border=\"1\" class=\"dataframe\">\n",
              "  <thead>\n",
              "    <tr style=\"text-align: right;\">\n",
              "      <th></th>\n",
              "      <th>Age</th>\n",
              "      <th>Sex</th>\n",
              "      <th>ChestPainType</th>\n",
              "      <th>RestingBP</th>\n",
              "      <th>Cholesterol</th>\n",
              "      <th>FastingBS</th>\n",
              "      <th>RestingECG</th>\n",
              "      <th>MaxHR</th>\n",
              "      <th>ExerciseAngina</th>\n",
              "      <th>Oldpeak</th>\n",
              "      <th>ST_Slope</th>\n",
              "      <th>HeartDisease</th>\n",
              "    </tr>\n",
              "  </thead>\n",
              "  <tbody>\n",
              "    <tr>\n",
              "      <th>0</th>\n",
              "      <td>0.244898</td>\n",
              "      <td>1.0</td>\n",
              "      <td>0.333333</td>\n",
              "      <td>0.70</td>\n",
              "      <td>0.479270</td>\n",
              "      <td>0.0</td>\n",
              "      <td>0.5</td>\n",
              "      <td>0.788732</td>\n",
              "      <td>0.0</td>\n",
              "      <td>0.295455</td>\n",
              "      <td>1.0</td>\n",
              "      <td>0.0</td>\n",
              "    </tr>\n",
              "    <tr>\n",
              "      <th>1</th>\n",
              "      <td>0.428571</td>\n",
              "      <td>0.0</td>\n",
              "      <td>0.666667</td>\n",
              "      <td>0.80</td>\n",
              "      <td>0.298507</td>\n",
              "      <td>0.0</td>\n",
              "      <td>0.5</td>\n",
              "      <td>0.676056</td>\n",
              "      <td>0.0</td>\n",
              "      <td>0.409091</td>\n",
              "      <td>0.5</td>\n",
              "      <td>1.0</td>\n",
              "    </tr>\n",
              "    <tr>\n",
              "      <th>2</th>\n",
              "      <td>0.183673</td>\n",
              "      <td>1.0</td>\n",
              "      <td>0.333333</td>\n",
              "      <td>0.65</td>\n",
              "      <td>0.469320</td>\n",
              "      <td>0.0</td>\n",
              "      <td>1.0</td>\n",
              "      <td>0.267606</td>\n",
              "      <td>0.0</td>\n",
              "      <td>0.295455</td>\n",
              "      <td>1.0</td>\n",
              "      <td>0.0</td>\n",
              "    </tr>\n",
              "    <tr>\n",
              "      <th>3</th>\n",
              "      <td>0.408163</td>\n",
              "      <td>0.0</td>\n",
              "      <td>0.000000</td>\n",
              "      <td>0.69</td>\n",
              "      <td>0.354892</td>\n",
              "      <td>0.0</td>\n",
              "      <td>0.5</td>\n",
              "      <td>0.338028</td>\n",
              "      <td>1.0</td>\n",
              "      <td>0.465909</td>\n",
              "      <td>0.5</td>\n",
              "      <td>1.0</td>\n",
              "    </tr>\n",
              "    <tr>\n",
              "      <th>4</th>\n",
              "      <td>0.530612</td>\n",
              "      <td>1.0</td>\n",
              "      <td>0.666667</td>\n",
              "      <td>0.75</td>\n",
              "      <td>0.323383</td>\n",
              "      <td>0.0</td>\n",
              "      <td>0.5</td>\n",
              "      <td>0.436620</td>\n",
              "      <td>0.0</td>\n",
              "      <td>0.295455</td>\n",
              "      <td>1.0</td>\n",
              "      <td>0.0</td>\n",
              "    </tr>\n",
              "  </tbody>\n",
              "</table>\n",
              "</div>\n",
              "    <div class=\"colab-df-buttons\">\n",
              "\n",
              "  <div class=\"colab-df-container\">\n",
              "    <button class=\"colab-df-convert\" onclick=\"convertToInteractive('df-67b3c4fb-7607-485f-9786-c73f9a6a6517')\"\n",
              "            title=\"Convert this dataframe to an interactive table.\"\n",
              "            style=\"display:none;\">\n",
              "\n",
              "  <svg xmlns=\"http://www.w3.org/2000/svg\" height=\"24px\" viewBox=\"0 -960 960 960\">\n",
              "    <path d=\"M120-120v-720h720v720H120Zm60-500h600v-160H180v160Zm220 220h160v-160H400v160Zm0 220h160v-160H400v160ZM180-400h160v-160H180v160Zm440 0h160v-160H620v160ZM180-180h160v-160H180v160Zm440 0h160v-160H620v160Z\"/>\n",
              "  </svg>\n",
              "    </button>\n",
              "\n",
              "  <style>\n",
              "    .colab-df-container {\n",
              "      display:flex;\n",
              "      gap: 12px;\n",
              "    }\n",
              "\n",
              "    .colab-df-convert {\n",
              "      background-color: #E8F0FE;\n",
              "      border: none;\n",
              "      border-radius: 50%;\n",
              "      cursor: pointer;\n",
              "      display: none;\n",
              "      fill: #1967D2;\n",
              "      height: 32px;\n",
              "      padding: 0 0 0 0;\n",
              "      width: 32px;\n",
              "    }\n",
              "\n",
              "    .colab-df-convert:hover {\n",
              "      background-color: #E2EBFA;\n",
              "      box-shadow: 0px 1px 2px rgba(60, 64, 67, 0.3), 0px 1px 3px 1px rgba(60, 64, 67, 0.15);\n",
              "      fill: #174EA6;\n",
              "    }\n",
              "\n",
              "    .colab-df-buttons div {\n",
              "      margin-bottom: 4px;\n",
              "    }\n",
              "\n",
              "    [theme=dark] .colab-df-convert {\n",
              "      background-color: #3B4455;\n",
              "      fill: #D2E3FC;\n",
              "    }\n",
              "\n",
              "    [theme=dark] .colab-df-convert:hover {\n",
              "      background-color: #434B5C;\n",
              "      box-shadow: 0px 1px 3px 1px rgba(0, 0, 0, 0.15);\n",
              "      filter: drop-shadow(0px 1px 2px rgba(0, 0, 0, 0.3));\n",
              "      fill: #FFFFFF;\n",
              "    }\n",
              "  </style>\n",
              "\n",
              "    <script>\n",
              "      const buttonEl =\n",
              "        document.querySelector('#df-67b3c4fb-7607-485f-9786-c73f9a6a6517 button.colab-df-convert');\n",
              "      buttonEl.style.display =\n",
              "        google.colab.kernel.accessAllowed ? 'block' : 'none';\n",
              "\n",
              "      async function convertToInteractive(key) {\n",
              "        const element = document.querySelector('#df-67b3c4fb-7607-485f-9786-c73f9a6a6517');\n",
              "        const dataTable =\n",
              "          await google.colab.kernel.invokeFunction('convertToInteractive',\n",
              "                                                    [key], {});\n",
              "        if (!dataTable) return;\n",
              "\n",
              "        const docLinkHtml = 'Like what you see? Visit the ' +\n",
              "          '<a target=\"_blank\" href=https://colab.research.google.com/notebooks/data_table.ipynb>data table notebook</a>'\n",
              "          + ' to learn more about interactive tables.';\n",
              "        element.innerHTML = '';\n",
              "        dataTable['output_type'] = 'display_data';\n",
              "        await google.colab.output.renderOutput(dataTable, element);\n",
              "        const docLink = document.createElement('div');\n",
              "        docLink.innerHTML = docLinkHtml;\n",
              "        element.appendChild(docLink);\n",
              "      }\n",
              "    </script>\n",
              "  </div>\n",
              "\n",
              "\n",
              "<div id=\"df-a2d582da-9b2a-4ab5-b1a7-62f8f3674e1d\">\n",
              "  <button class=\"colab-df-quickchart\" onclick=\"quickchart('df-a2d582da-9b2a-4ab5-b1a7-62f8f3674e1d')\"\n",
              "            title=\"Suggest charts.\"\n",
              "            style=\"display:none;\">\n",
              "\n",
              "<svg xmlns=\"http://www.w3.org/2000/svg\" height=\"24px\"viewBox=\"0 0 24 24\"\n",
              "     width=\"24px\">\n",
              "    <g>\n",
              "        <path d=\"M19 3H5c-1.1 0-2 .9-2 2v14c0 1.1.9 2 2 2h14c1.1 0 2-.9 2-2V5c0-1.1-.9-2-2-2zM9 17H7v-7h2v7zm4 0h-2V7h2v10zm4 0h-2v-4h2v4z\"/>\n",
              "    </g>\n",
              "</svg>\n",
              "  </button>\n",
              "\n",
              "<style>\n",
              "  .colab-df-quickchart {\n",
              "      --bg-color: #E8F0FE;\n",
              "      --fill-color: #1967D2;\n",
              "      --hover-bg-color: #E2EBFA;\n",
              "      --hover-fill-color: #174EA6;\n",
              "      --disabled-fill-color: #AAA;\n",
              "      --disabled-bg-color: #DDD;\n",
              "  }\n",
              "\n",
              "  [theme=dark] .colab-df-quickchart {\n",
              "      --bg-color: #3B4455;\n",
              "      --fill-color: #D2E3FC;\n",
              "      --hover-bg-color: #434B5C;\n",
              "      --hover-fill-color: #FFFFFF;\n",
              "      --disabled-bg-color: #3B4455;\n",
              "      --disabled-fill-color: #666;\n",
              "  }\n",
              "\n",
              "  .colab-df-quickchart {\n",
              "    background-color: var(--bg-color);\n",
              "    border: none;\n",
              "    border-radius: 50%;\n",
              "    cursor: pointer;\n",
              "    display: none;\n",
              "    fill: var(--fill-color);\n",
              "    height: 32px;\n",
              "    padding: 0;\n",
              "    width: 32px;\n",
              "  }\n",
              "\n",
              "  .colab-df-quickchart:hover {\n",
              "    background-color: var(--hover-bg-color);\n",
              "    box-shadow: 0 1px 2px rgba(60, 64, 67, 0.3), 0 1px 3px 1px rgba(60, 64, 67, 0.15);\n",
              "    fill: var(--button-hover-fill-color);\n",
              "  }\n",
              "\n",
              "  .colab-df-quickchart-complete:disabled,\n",
              "  .colab-df-quickchart-complete:disabled:hover {\n",
              "    background-color: var(--disabled-bg-color);\n",
              "    fill: var(--disabled-fill-color);\n",
              "    box-shadow: none;\n",
              "  }\n",
              "\n",
              "  .colab-df-spinner {\n",
              "    border: 2px solid var(--fill-color);\n",
              "    border-color: transparent;\n",
              "    border-bottom-color: var(--fill-color);\n",
              "    animation:\n",
              "      spin 1s steps(1) infinite;\n",
              "  }\n",
              "\n",
              "  @keyframes spin {\n",
              "    0% {\n",
              "      border-color: transparent;\n",
              "      border-bottom-color: var(--fill-color);\n",
              "      border-left-color: var(--fill-color);\n",
              "    }\n",
              "    20% {\n",
              "      border-color: transparent;\n",
              "      border-left-color: var(--fill-color);\n",
              "      border-top-color: var(--fill-color);\n",
              "    }\n",
              "    30% {\n",
              "      border-color: transparent;\n",
              "      border-left-color: var(--fill-color);\n",
              "      border-top-color: var(--fill-color);\n",
              "      border-right-color: var(--fill-color);\n",
              "    }\n",
              "    40% {\n",
              "      border-color: transparent;\n",
              "      border-right-color: var(--fill-color);\n",
              "      border-top-color: var(--fill-color);\n",
              "    }\n",
              "    60% {\n",
              "      border-color: transparent;\n",
              "      border-right-color: var(--fill-color);\n",
              "    }\n",
              "    80% {\n",
              "      border-color: transparent;\n",
              "      border-right-color: var(--fill-color);\n",
              "      border-bottom-color: var(--fill-color);\n",
              "    }\n",
              "    90% {\n",
              "      border-color: transparent;\n",
              "      border-bottom-color: var(--fill-color);\n",
              "    }\n",
              "  }\n",
              "</style>\n",
              "\n",
              "  <script>\n",
              "    async function quickchart(key) {\n",
              "      const quickchartButtonEl =\n",
              "        document.querySelector('#' + key + ' button');\n",
              "      quickchartButtonEl.disabled = true;  // To prevent multiple clicks.\n",
              "      quickchartButtonEl.classList.add('colab-df-spinner');\n",
              "      try {\n",
              "        const charts = await google.colab.kernel.invokeFunction(\n",
              "            'suggestCharts', [key], {});\n",
              "      } catch (error) {\n",
              "        console.error('Error during call to suggestCharts:', error);\n",
              "      }\n",
              "      quickchartButtonEl.classList.remove('colab-df-spinner');\n",
              "      quickchartButtonEl.classList.add('colab-df-quickchart-complete');\n",
              "    }\n",
              "    (() => {\n",
              "      let quickchartButtonEl =\n",
              "        document.querySelector('#df-a2d582da-9b2a-4ab5-b1a7-62f8f3674e1d button');\n",
              "      quickchartButtonEl.style.display =\n",
              "        google.colab.kernel.accessAllowed ? 'block' : 'none';\n",
              "    })();\n",
              "  </script>\n",
              "</div>\n",
              "    </div>\n",
              "  </div>\n"
            ]
          },
          "metadata": {},
          "execution_count": 169
        }
      ]
    },
    {
      "cell_type": "code",
      "source": [
        "inputs = data.drop(['HeartDisease'],'columns')\n",
        "output = data.drop(['Age', 'Sex', 'ChestPainType', 'RestingBP', 'Cholesterol', 'FastingBS', 'RestingECG', 'MaxHR', 'ExerciseAngina', 'Oldpeak', 'ST_Slope'],'columns')\n",
        "print(inputs.head())\n",
        "print(output.head())"
      ],
      "metadata": {
        "colab": {
          "base_uri": "https://localhost:8080/"
        },
        "id": "Y49FZihnO4aQ",
        "outputId": "3ee3564a-8169-48aa-dc71-d31ccdcefe6c"
      },
      "execution_count": null,
      "outputs": [
        {
          "output_type": "stream",
          "name": "stdout",
          "text": [
            "        Age  Sex  ChestPainType  RestingBP  Cholesterol  FastingBS  \\\n",
            "0  0.244898  1.0       0.333333       0.70     0.479270        0.0   \n",
            "1  0.428571  0.0       0.666667       0.80     0.298507        0.0   \n",
            "2  0.183673  1.0       0.333333       0.65     0.469320        0.0   \n",
            "3  0.408163  0.0       0.000000       0.69     0.354892        0.0   \n",
            "4  0.530612  1.0       0.666667       0.75     0.323383        0.0   \n",
            "\n",
            "   RestingECG     MaxHR  ExerciseAngina   Oldpeak  ST_Slope  \n",
            "0         0.5  0.788732             0.0  0.295455       1.0  \n",
            "1         0.5  0.676056             0.0  0.409091       0.5  \n",
            "2         1.0  0.267606             0.0  0.295455       1.0  \n",
            "3         0.5  0.338028             1.0  0.465909       0.5  \n",
            "4         0.5  0.436620             0.0  0.295455       1.0  \n",
            "   HeartDisease\n",
            "0           0.0\n",
            "1           1.0\n",
            "2           0.0\n",
            "3           1.0\n",
            "4           0.0\n"
          ]
        },
        {
          "output_type": "stream",
          "name": "stderr",
          "text": [
            "<ipython-input-170-16467922d922>:1: FutureWarning: In a future version of pandas all arguments of DataFrame.drop except for the argument 'labels' will be keyword-only.\n",
            "  inputs = data.drop(['HeartDisease'],'columns')\n",
            "<ipython-input-170-16467922d922>:2: FutureWarning: In a future version of pandas all arguments of DataFrame.drop except for the argument 'labels' will be keyword-only.\n",
            "  output = data.drop(['Age', 'Sex', 'ChestPainType', 'RestingBP', 'Cholesterol', 'FastingBS', 'RestingECG', 'MaxHR', 'ExerciseAngina', 'Oldpeak', 'ST_Slope'],'columns')\n"
          ]
        }
      ]
    },
    {
      "cell_type": "markdown",
      "source": [
        "# Splitting the DataSet into Train and Test"
      ],
      "metadata": {
        "id": "yoR5_iSAS6-0"
      }
    },
    {
      "cell_type": "code",
      "source": [
        "x_train, x_test, y_train, y_test = train_test_split(inputs, output, train_size=0.8)\n",
        "print(x_train.info())\n",
        "# print(x_test.head())\n",
        "print(y_train.info())\n",
        "# print(y_test.head())"
      ],
      "metadata": {
        "colab": {
          "base_uri": "https://localhost:8080/"
        },
        "id": "KR-G6GoaO4lX",
        "outputId": "9a30b48f-82eb-4d0e-a14a-73b0c2f51a7d"
      },
      "execution_count": null,
      "outputs": [
        {
          "output_type": "stream",
          "name": "stdout",
          "text": [
            "<class 'pandas.core.frame.DataFrame'>\n",
            "Int64Index: 734 entries, 718 to 626\n",
            "Data columns (total 11 columns):\n",
            " #   Column          Non-Null Count  Dtype  \n",
            "---  ------          --------------  -----  \n",
            " 0   Age             734 non-null    float64\n",
            " 1   Sex             734 non-null    float64\n",
            " 2   ChestPainType   734 non-null    float64\n",
            " 3   RestingBP       734 non-null    float64\n",
            " 4   Cholesterol     734 non-null    float64\n",
            " 5   FastingBS       734 non-null    float64\n",
            " 6   RestingECG      734 non-null    float64\n",
            " 7   MaxHR           734 non-null    float64\n",
            " 8   ExerciseAngina  734 non-null    float64\n",
            " 9   Oldpeak         734 non-null    float64\n",
            " 10  ST_Slope        734 non-null    float64\n",
            "dtypes: float64(11)\n",
            "memory usage: 68.8 KB\n",
            "None\n",
            "<class 'pandas.core.frame.DataFrame'>\n",
            "Int64Index: 734 entries, 718 to 626\n",
            "Data columns (total 1 columns):\n",
            " #   Column        Non-Null Count  Dtype  \n",
            "---  ------        --------------  -----  \n",
            " 0   HeartDisease  734 non-null    float64\n",
            "dtypes: float64(1)\n",
            "memory usage: 11.5 KB\n",
            "None\n"
          ]
        }
      ]
    },
    {
      "cell_type": "markdown",
      "source": [
        "# Training the model"
      ],
      "metadata": {
        "id": "g_DEgYWYTMFN"
      }
    },
    {
      "cell_type": "code",
      "source": [
        "model =  KNeighborsClassifier(n_neighbors=35, metric='l1')\n",
        "model.fit(x_train,y_train.values.ravel())\n",
        "y_pred = model.predict(x_test)"
      ],
      "metadata": {
        "id": "Thhh8ZdnO4xa"
      },
      "execution_count": null,
      "outputs": []
    },
    {
      "cell_type": "markdown",
      "source": [
        "# Calculating the Accuracy of the model"
      ],
      "metadata": {
        "id": "0sIzrsqFTPh6"
      }
    },
    {
      "cell_type": "code",
      "source": [
        "accuracy = (accuracy_score(y_test, y_pred)) * 100\n",
        "print(f\"Accuracy: {accuracy}%\")"
      ],
      "metadata": {
        "colab": {
          "base_uri": "https://localhost:8080/"
        },
        "id": "8C26Ry4aO5Ai",
        "outputId": "41832afe-567f-4a16-cdfe-b18319c8f764"
      },
      "execution_count": null,
      "outputs": [
        {
          "output_type": "stream",
          "name": "stdout",
          "text": [
            "Accuracy: 89.13043478260869%\n"
          ]
        }
      ]
    }
  ]
}